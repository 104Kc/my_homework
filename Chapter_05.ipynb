{
 "cells": [
  {
   "cell_type": "markdown",
   "metadata": {},
   "source": [
    "# แบบฝึกหัด บทที่ 5 ตัวแปรและประเภทข้อมูล"
   ]
  },
  {
   "cell_type": "code",
   "execution_count": null,
   "metadata": {},
   "outputs": [],
   "source": [
    "\"\"\"\n",
    "ชื่อ - สกุล - รหัส\n",
    "\n",
    "นาย เกียรติศักดิ์ ช่างทอง 6612732104\n",
    "\"\"\""
   ]
  },
  {
   "cell_type": "markdown",
   "metadata": {},
   "source": [
    "## 1.\tประเภทของตัวเลขที่ภาษาไพธอนให้การรองรับมีอะไรบ้าง"
   ]
  },
  {
   "cell_type": "code",
   "execution_count": null,
   "metadata": {},
   "outputs": [],
   "source": [
    "#ตอบ\n",
    "int (signed integers) − เรามักเรียกข้อมูลประเภทนี้ว่า จำนวนเต็ม (Integer), ซึ่งเป็นได้ทั้งตัวเลขจำนวนเต็มบวก หรือเต็มลบก็ได้ ในระบบเลขฐาน 10.\n",
    "\n",
    "long (long integers) − เป็นข้อมูลจำนวนเต็มที่ไม่ได้จำกัดขนาด แต่จะเขียนตามด้วยตัว L ตัวเล็กหรือตัวใหญ่ก็ได้.\n",
    "\n",
    "float (floating point real values) − เป็นข้อมูลตัวเลขประเภทจำนวนจริง ซึ่งจะเรียนในรูปแบบตัวเลขทศนิยม และ Floats อาจใช้เขียนในรูปแบบสัญลักษณ์ทางวิทยาศาสตร์ ซึ่งใช้ E หรือ e ในการแทนเลขยกกำลัง 10 (2.5e2 = 2.5 x 102 = 250).\n",
    "\n",
    "complex (complex numbers) − คือข้อมูลที่ถูกเขียนในรูปของ a + bJ, โดย a และ b คือจำนวนจริง และ J คือค่ารากที่สองของ -1 โดย Complex numbers ไม่ค่อยได้ถูกใช้ในการเขียนโปรแกรมในภาษาไพทอน\n",
    "\n",
    "หมายเหตุ ใน Python 3 ข้อมูลชนิด long ถูกตัดออกไป\n",
    "\n"
   ]
  },
  {
   "cell_type": "markdown",
   "metadata": {},
   "source": [
    "## 2.จงแสดงชนิดข้อมูลของตัวแปร a และ b"
   ]
  },
  {
   "cell_type": "code",
   "execution_count": null,
   "metadata": {},
   "outputs": [],
   "source": [
    "\"\"\"\n",
    "a = 15.50\n",
    "b = ‘Python’ \n",
    "จงแสดงชนิดข้อมูลของตัวแปร a และ b\n",
    "\"\"\""
   ]
  },
  {
   "cell_type": "code",
   "execution_count": 2,
   "metadata": {},
   "outputs": [
    {
     "name": "stdout",
     "output_type": "stream",
     "text": [
      "<class 'float'>\n",
      "<class 'str'>\n"
     ]
    }
   ],
   "source": [
    "#คำตอบ\n",
    "a = 15.50\n",
    "b = 'Python'\n",
    "\n",
    "print(type(a))\n",
    "print(type(b))\n",
    "\n",
    "\n"
   ]
  },
  {
   "cell_type": "markdown",
   "metadata": {
    "tags": []
   },
   "source": [
    "a = 15.50\n",
    "b = 'Python'\n",
    "\n",
    "print(type(a))\n",
    "print(type(b))## 3.จงใช้คำสั่ง print() เพื่อแสดงสตริงต่อไปนี้\n",
    "\n",
    "- Jane's teacher says \"You have to study hard\" –"
   ]
  },
  {
   "cell_type": "code",
   "execution_count": 4,
   "metadata": {},
   "outputs": [
    {
     "name": "stdout",
     "output_type": "stream",
     "text": [
      "Jane's teacher says \"You have to study hard\" –\n"
     ]
    }
   ],
   "source": [
    "#คำตอบ\n",
    "print(\"Jane's teacher says \\\"You have to study hard\\\" –\")"
   ]
  },
  {
   "cell_type": "markdown",
   "metadata": {},
   "source": [
    "## 4.\tจงแสดงผลลัพธ์ของคำสั่งต่อไปนี้ "
   ]
  },
  {
   "cell_type": "code",
   "execution_count": 5,
   "metadata": {},
   "outputs": [
    {
     "name": "stdout",
     "output_type": "stream",
     "text": [
      "banana apple pineapple\n"
     ]
    }
   ],
   "source": [
    "print(\"{2} {0} {1}\".format(\"apple\", \n",
    "         \"pineapple\", \n",
    "         \"banana\"))"
   ]
  },
  {
   "cell_type": "markdown",
   "metadata": {},
   "source": [
    "print(\"{2} {0} {1}\".format(\"apple\", \n",
    "         \"pineapple\", \n",
    "         \"banana\"))\n",
    "         "
   ]
  },
  {
   "cell_type": "markdown",
   "metadata": {},
   "source": [
    "## 5. กำหนดให้ตัวแปร "
   ]
  },
  {
   "cell_type": "code",
   "execution_count": null,
   "metadata": {},
   "outputs": [],
   "source": [
    "\"\"\"\n",
    "pi = 3.141592653589\n",
    "จงแสดงค่าของตัวแปร pi ออกทางหน้าจอให้มีทศนิยมเพียง 3 จุด\n",
    "\"\"\""
   ]
  },
  {
   "cell_type": "code",
   "execution_count": 6,
   "metadata": {},
   "outputs": [
    {
     "name": "stdout",
     "output_type": "stream",
     "text": [
      "3.142\n"
     ]
    }
   ],
   "source": [
    "#คำตอบ\n",
    "pi = 3.141592653589\n",
    "print(\"{:.3f}\".format(pi))"
   ]
  },
  {
   "cell_type": "markdown",
   "metadata": {},
   "source": [
    "## 6.กำหนดให้ \n",
    "\n",
    "str = \"Python Programming\"\n",
    "\n",
    "จงหาผลลัพธ์ของ str[7:]\n"
   ]
  },
  {
   "cell_type": "code",
   "execution_count": 9,
   "metadata": {},
   "outputs": [
    {
     "name": "stdout",
     "output_type": "stream",
     "text": [
      "Programming\n"
     ]
    }
   ],
   "source": [
    "#คำตอบ\n",
    "str = \"Python Programming\"\n",
    "print(str[7:])\n"
   ]
  },
  {
   "cell_type": "markdown",
   "metadata": {},
   "source": [
    "## 7.จงอธิบายความแตกต่างระหว่างลิสต์และทัพเพิล"
   ]
  },
  {
   "cell_type": "code",
   "execution_count": null,
   "metadata": {},
   "outputs": [],
   "source": [
    "#คำตอบ\n",
    "1.การเปลี่ยนแปลงค่า:\n",
    "\n",
    "ลิสต์: ลิสต์เป็นโครงสร้างข้อมูลแบบแก้ไขได้ (mutable) ซึ่งหมายความว่าคุณสามารถเปลี่ยนแปลงค่าภายในลิสต์หลังจากสร้างมันได้. คุณสามารถเพิ่ม, ลบ, หรือแก้ไขสมาชิกในลิสต์ได้.\n",
    "\n",
    "ทัพเพิล: ทัพเพิลเป็นโครงสร้างข้อมูลแบบไม่แก้ไขได้ (immutable) ซึ่งหมายความว่าหลังจากสร้างทัพเพิลแล้วค่าภายในทัพเพิลไม่สามารถเปลี่ยนแปลงได้ คุณไม่สามารถเพิ่ม, ลบ, หรือแก้ไขสมาชิกในทัพเพิลได้.\n",
    "\n",
    "2.การสร้าง:\n",
    "\n",
    "ลิสต์: ลิสต์สร้างโดยใช้วงเล็บเหลี่ยม [ ] และสามารถมีสมาชิกที่แตกต่างชนิดข้อมูลรวมถึงสมาชิกของลิสต์อื่นๆ ภายใน.\n",
    "\n",
    "ทัพเพิล: ทัพเพิลสร้างโดยใช้วงเล็บเมชัน ( ) และสามารถมีสมาชิกที่แตกต่างชนิดข้อมูลรวมถึงสมาชิกของทัพเพิลอื่นๆ ภายใน.\n",
    "\n",
    "3.การเข้าถึงสมาชิก:\n",
    "\n",
    "ลิสต์: คุณสามารถเข้าถึงสมาชิกในลิสต์โดยใช้ดัชนี (index) เช่น my_list[0] เพื่อเข้าถึงสมาชิกที่ตำแหน่งที่ 0.\n",
    "\n",
    "ทัพเพิล: การเข้าถึงสมาชิกในทัพเพิลก็เหมือนกับลิสต์ โดยใช้ดัชนี (index) เช่น my_tuple[0] เพื่อเข้าถึงสมาชิกที่ตำแหน่งที่ 0.\n",
    "\n",
    "4.การใช้งาน:\n",
    "\n",
    "ลิสต์: ลิสต์เหมาะสำหรับเก็บข้อมูลที่คาดหวังว่าจะเปลี่ยนแปลงหรืออัพเดตในอนาคต เนื่องจากคุณสามารถแก้ไขลิสต์ได้.\n",
    "\n",
    "ทัพเพิล: ทัพเพิลเหมาะสำหรับเก็บข้อมูลที่ไม่คาดหวังในการเปลี่ยนแปลง เนื่องจากทัพเพิลเป็นโครงสร้างข้อมูลแบบไม่แก้ไขได้ และมักใช้ในกรณีที่คุณต้องการความมั่นใจในความคงที่ของข้อมูล.\n",
    "\n",
    "5.ประสิทธิภาพ:\n",
    "\n",
    "ในบางกรณี ลิสต์อาจมีประสิทธิภาพที่ต่ำกว่าทัพเพิล เนื่องจากการเปลี่ยนแปลงโครงสร้างข้อมูลของลิสต์ต้องใช้เวลามากขึ้น ในกรณีที่คุณไม่ต้องการการแก้ไขข้อมูลที่เก็บอยู่ในโครงสร้างนี้ ทัพเพิลสามารถเป็นตัวเลือกที่ดีกว่า.\n",
    "โดยทั่วไปแล้ว ความเลือกในการใช้ลิสต์หรือทัพเพิลขึ้นอยู่กับลักษณะงานที่คุณกำลังทำและวัตถุประสงค์ของคุณในการใช้โครงสร้างข้อมูลใน Python.\n",
    "\n",
    "\n",
    "\n",
    "\n",
    "\n"
   ]
  },
  {
   "cell_type": "code",
   "execution_count": null,
   "metadata": {},
   "outputs": [],
   "source": []
  }
 ],
 "metadata": {
  "interpreter": {
   "hash": "40d3a090f54c6569ab1632332b64b2c03c39dcf918b08424e98f38b5ae0af88f"
  },
  "kernelspec": {
   "display_name": "Python 3 (ipykernel)",
   "language": "python",
   "name": "python3"
  },
  "language_info": {
   "codemirror_mode": {
    "name": "ipython",
    "version": 3
   },
   "file_extension": ".py",
   "mimetype": "text/x-python",
   "name": "python",
   "nbconvert_exporter": "python",
   "pygments_lexer": "ipython3",
   "version": "3.11.5"
  }
 },
 "nbformat": 4,
 "nbformat_minor": 4
}
