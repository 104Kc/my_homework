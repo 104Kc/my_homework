{
 "cells": [
  {
   "cell_type": "code",
   "execution_count": null,
   "id": "249138ea-6e71-4fde-b39f-f32cc74f9649",
   "metadata": {},
   "outputs": [],
   "source": [
    "\"\"\" \n",
    "ชื่อ - สกุล - รหัสนักศึกษา\n",
    "\n",
    "นาย เกียรติศักดิ์ ช่างทอง 6612732104\n",
    "\"\"\""
   ]
  },
  {
   "cell_type": "code",
   "execution_count": 9,
   "id": "28d3849b-ab80-44c6-aaf9-1d84daf45703",
   "metadata": {
    "tags": []
   },
   "outputs": [
    {
     "name": "stdout",
     "output_type": "stream",
     "text": [
      "* \n",
      "* * \n",
      "* * * \n",
      "* * * * \n",
      "* * * * * \n"
     ]
    }
   ],
   "source": [
    "#ข้อ 1\n",
    "\"\"\"\n",
    "*\n",
    "* *\n",
    "* * *\n",
    "* * * *\n",
    "* * * * *\n",
    "\"\"\"\n",
    "def print_diaond(rows):\n",
    "    for i in range(1, rows + 1):\n",
    "        for j in range(1, i + 1):\n",
    "            print(\"* \", end=\"\")\n",
    "        print()\n",
    "num_rows =5\n",
    "print_diamond(num_rows)\n",
    "        "
   ]
  },
  {
   "cell_type": "code",
   "execution_count": 7,
   "id": "cf01f7db-fab3-4144-823d-da73900bdd89",
   "metadata": {
    "tags": []
   },
   "outputs": [
    {
     "name": "stdout",
     "output_type": "stream",
     "text": [
      "* * * * * \n",
      "* * * * \n",
      "* * * \n",
      "* * \n",
      "* \n"
     ]
    }
   ],
   "source": [
    "#ข้อ 2\n",
    "\"\"\"\n",
    "* * * * * \n",
    "* * * *\n",
    "* * *\n",
    "* * \n",
    "* \n",
    "\"\"\"\n",
    "def print_diamond(rows):\n",
    "    for i in range(rows - 1, 0, - 1):\n",
    "        for j in range(1, i + 1):\n",
    "            print(\"* \", end=\"\")\n",
    "        print()\n",
    "num_rows =6\n",
    "print_diamond(num_rows)"
   ]
  },
  {
   "cell_type": "code",
   "execution_count": 14,
   "id": "d923a373-cfbe-46a8-ab6d-55fa5fbcf39f",
   "metadata": {
    "tags": []
   },
   "outputs": [
    {
     "name": "stdout",
     "output_type": "stream",
     "text": [
      "* \n",
      "* * \n",
      "* * * \n",
      "* * * * \n",
      "* * * * * \n"
     ]
    }
   ],
   "source": [
    "#ข้อ 3\n",
    "\"\"\"\n",
    "        *\n",
    "      * *\n",
    "    * * *\n",
    "  * * * *\n",
    "* * * * *\n",
    "\"\"\"\n",
    "def print_diaond(rows):\n",
    "    for i in range(1, rows + 1):\n",
    "        for j in range(rows - i):\n",
    "            print(\" \", end=\" \")\n",
    "        for j in range(1, i + 1):\n",
    "            print(\"* \", end=\"\")\n",
    "        print()\n",
    "num_rows =5\n",
    "print_diamond(num_rows)\n"
   ]
  },
  {
   "cell_type": "code",
   "execution_count": 60,
   "id": "ebe0fab9-d515-481f-b9b9-5e52dcfdee54",
   "metadata": {
    "tags": []
   },
   "outputs": [
    {
     "name": "stdout",
     "output_type": "stream",
     "text": [
      "  * * * * * \n",
      "    * * * * \n",
      "      * * * \n",
      "        * * \n",
      "          * \n"
     ]
    }
   ],
   "source": [
    "#ข้อ 4\n",
    "\"\"\"\n",
    " * * * * *\n",
    "  * * * * \n",
    "   * * *\n",
    "    * *\n",
    "     *\n",
    "\"\"\"\n",
    "def print_diamond(rows):\n",
    "    for i in range(rows - 1, 0, - 1 ):\n",
    "        for j in range(rows - i):\n",
    "            print(\" \", end=\" \")\n",
    "        for j in range(1, i + 1):\n",
    "            print(\"* \", end=\"\")\n",
    "        print()\n",
    "num_rows =6\n",
    "print_diamond(num_rows)\n"
   ]
  },
  {
   "cell_type": "code",
   "execution_count": null,
   "id": "44d43ae9-b34f-42e3-a0a6-27b642a0e339",
   "metadata": {},
   "outputs": [],
   "source": []
  }
 ],
 "metadata": {
  "kernelspec": {
   "display_name": "Python 3 (ipykernel)",
   "language": "python",
   "name": "python3"
  },
  "language_info": {
   "codemirror_mode": {
    "name": "ipython",
    "version": 3
   },
   "file_extension": ".py",
   "mimetype": "text/x-python",
   "name": "python",
   "nbconvert_exporter": "python",
   "pygments_lexer": "ipython3",
   "version": "3.11.5"
  }
 },
 "nbformat": 4,
 "nbformat_minor": 5
}
